{
 "cells": [
  {
   "cell_type": "code",
   "execution_count": 24,
   "metadata": {
    "collapsed": false
   },
   "outputs": [
    {
     "name": "stdout",
     "output_type": "stream",
     "text": [
      "\u001b[34mBanjo\u001b[m\u001b[m/                       logo_homog_image_count.json\r\n",
      "\u001b[34mLearning\u001b[m\u001b[m/                    \u001b[34mmeetup\u001b[m\u001b[m/\r\n",
      "\u001b[34mTrading_Env\u001b[m\u001b[m/                 \u001b[34mmirror_logos\u001b[m\u001b[m/\r\n",
      "\u001b[34mautomated_trading\u001b[m\u001b[m/           \u001b[34mspeach\u001b[m\u001b[m/\r\n",
      "\u001b[34mautomated_trading_client\u001b[m\u001b[m/    \u001b[34mta-lib\u001b[m\u001b[m/\r\n",
      "candles.json                 test_candle_data.json\r\n",
      "classifier_data.json         \u001b[34mtests\u001b[m\u001b[m/\r\n",
      "\u001b[34mgym_data\u001b[m\u001b[m/\r\n"
     ]
    }
   ],
   "source": [
    "ls ../../../"
   ]
  },
  {
   "cell_type": "code",
   "execution_count": 6,
   "metadata": {
    "collapsed": true
   },
   "outputs": [],
   "source": [
    "import datetime\n",
    "import json\n",
    "import time\n",
    "\n",
    "from pytz import timezone "
   ]
  },
  {
   "cell_type": "code",
   "execution_count": 7,
   "metadata": {
    "collapsed": true
   },
   "outputs": [],
   "source": [
    "def load_text_file(t_file):\n",
    "    for candle in open(t_file):\n",
    "        candle = candle.rstrip('\\n')\n",
    "        yield candle"
   ]
  },
  {
   "cell_type": "code",
   "execution_count": 8,
   "metadata": {
    "collapsed": false
   },
   "outputs": [],
   "source": [
    "def split_candle_text(candles):\n",
    "    fields = ['date', 'time', 'open', 'high', 'close', 'low']\n",
    "    for candle in candles:\n",
    "        data = candle.split(',')\n",
    "        candle_data = {}\n",
    "        for ix, field in enumerate(fields):\n",
    "            candle_data[field] = data[ix]\n",
    "        yield candle_data\n",
    "    "
   ]
  },
  {
   "cell_type": "code",
   "execution_count": 9,
   "metadata": {
    "collapsed": true
   },
   "outputs": [],
   "source": [
    "def format_time(date, time):\n",
    "    date_parts = date.split('.')\n",
    "    time_parts = time.split(':')\n",
    "    \n",
    "    year = date_parts[0]\n",
    "    month = date_parts[1]\n",
    "    day = date_parts[2]\n",
    "    hour = time_parts[0]\n",
    "    minute = time_parts[1]\n",
    "    \n",
    "    return year, month, day, hour, minute"
   ]
  },
  {
   "cell_type": "code",
   "execution_count": 10,
   "metadata": {
    "collapsed": true
   },
   "outputs": [],
   "source": [
    "def make_utc_time(year, month, day, hour, minute, timezone):\n",
    "    target_time = datetime.datetime(int(year), int(month), int(day), int(hour), int(minute), tzinfo=timezone)\n",
    "    epoch = datetime.datetime(1970,1,1, tzinfo=timezone)\n",
    "    return (target_time - epoch).total_seconds()\n",
    "    "
   ]
  },
  {
   "cell_type": "code",
   "execution_count": 21,
   "metadata": {
    "collapsed": false
   },
   "outputs": [],
   "source": [
    "def format_candles(candles, timezone):\n",
    "    for candle in candles:\n",
    "        year, month, day, hour, minute = format_time(candle['date'], candle['time'])\n",
    "        utc = make_utc_time(year, month, day, hour, minute, timezone)\n",
    "        candle = {'high': float(candle['high']), 'low': float(candle['low']), 'close': float(candle['close']), 'open': float(candle['open'])}\n",
    "        date = {'year': int(year), 'month': int(month), 'day': int(day) , 'hour': int(hour), 'minute': int(minute), 'utc': utc}\n",
    "        _id = time.time()\n",
    "        candle_datum = {\n",
    "            'candle': candle,\n",
    "            'date': date,\n",
    "            'id': _id\n",
    "        }\n",
    "        yield candle_datum"
   ]
  },
  {
   "cell_type": "code",
   "execution_count": 22,
   "metadata": {
    "collapsed": true
   },
   "outputs": [],
   "source": [
    "def dump_candle_data(data, destination):\n",
    "    with open(destination, 'w') as f:\n",
    "        json.dump(data, f)"
   ]
  },
  {
   "cell_type": "code",
   "execution_count": 23,
   "metadata": {
    "collapsed": true
   },
   "outputs": [],
   "source": [
    "def get_candle_data(input_file, output_file):\n",
    "    EST_TIMEZONE = timezone('US/Eastern') # East timezone without daylight savings\n",
    "    candle_data = load_text_file(input_file)\n",
    "    split_candle_data = split_candle_text(candle_data)\n",
    "    formatted_candle_data = list(format_candles(split_candle_data, EST_TIMEZONE))\n",
    "    dump_candle_data(formatted_candle_data, output_file)\n",
    "    "
   ]
  },
  {
   "cell_type": "code",
   "execution_count": 24,
   "metadata": {
    "collapsed": true
   },
   "outputs": [],
   "source": [
    "input_file = '/Users/jnewman/Desktop/DAT_MT_EURUSD_M1_2015.txt'\n",
    "output_file = 'DAT_MT_EURUSD_M1_2015.json'"
   ]
  },
  {
   "cell_type": "code",
   "execution_count": 25,
   "metadata": {
    "collapsed": false
   },
   "outputs": [],
   "source": [
    "get_candle_data(input_file, output_file)"
   ]
  },
  {
   "cell_type": "code",
   "execution_count": null,
   "metadata": {
    "collapsed": true
   },
   "outputs": [],
   "source": []
  },
  {
   "cell_type": "code",
   "execution_count": null,
   "metadata": {
    "collapsed": true
   },
   "outputs": [],
   "source": []
  }
 ],
 "metadata": {
  "kernelspec": {
   "display_name": "Python 2",
   "language": "python",
   "name": "python2"
  },
  "language_info": {
   "codemirror_mode": {
    "name": "ipython",
    "version": 2
   },
   "file_extension": ".py",
   "mimetype": "text/x-python",
   "name": "python",
   "nbconvert_exporter": "python",
   "pygments_lexer": "ipython2",
   "version": "2.7.10"
  }
 },
 "nbformat": 4,
 "nbformat_minor": 0
}
