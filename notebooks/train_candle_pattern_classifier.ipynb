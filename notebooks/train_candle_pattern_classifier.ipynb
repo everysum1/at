{
 "cells": [
  {
   "cell_type": "code",
   "execution_count": 23,
   "metadata": {
    "collapsed": false
   },
   "outputs": [],
   "source": [
    "from bson import ObjectId\n",
    "\n",
    "from trading.db import get_database, transform_son\n",
    "from trading.classifier.random_forest import RFClassifier"
   ]
  },
  {
   "cell_type": "code",
   "execution_count": 31,
   "metadata": {
    "collapsed": true
   },
   "outputs": [],
   "source": [
    "def get_chart_data(db, chart_id):\n",
    "    chart = db.candle_data.find_one({'_id': ObjectId(chart_id)})\n",
    "    return transform_son(chart)    "
   ]
  },
  {
   "cell_type": "code",
   "execution_count": 25,
   "metadata": {
    "collapsed": true
   },
   "outputs": [],
   "source": [
    "def get_random_forest_classifier():\n",
    "    config = {'classifier_id': None}\n",
    "    rf_classifier = RFClassifier(config)\n",
    "    return rf_classifier"
   ]
  },
  {
   "cell_type": "code",
   "execution_count": 26,
   "metadata": {
    "collapsed": true
   },
   "outputs": [],
   "source": [
    "def save_random_forest_classifier(db, rf):\n",
    "    serialized_classifier = rf.serialize()\n",
    "    serialized_classifier['flags'] = ['pattern']\n",
    "    classifier_id = ObjectId()\n",
    "    serialized_classifier['_id'] = classifier_id\n",
    "    db.classifiers.insert(serialized_classifier)\n",
    "    print 'Inserted Classifier Id {classifier_id}'.format(classifier_id=classifier_id)"
   ]
  },
  {
   "cell_type": "code",
   "execution_count": 68,
   "metadata": {
    "collapsed": false
   },
   "outputs": [],
   "source": [
    "def prepare_candle_data(candles, pattern):\n",
    "    X = []\n",
    "    y = []\n",
    "\n",
    "    features = ['close', 'open', 'high', 'low']\n",
    "\n",
    "    for tick_data in candles:\n",
    "        candle_data = tick_data['candle']\n",
    "        data = []\n",
    "        for feature in features:\n",
    "            data.append(candle_data[feature])\n",
    "        if 'pattern' in tick_data:\n",
    "            y.append(candle_data['pattern'])\n",
    "        else:\n",
    "            y.append('None')\n",
    "        X.append(data)\n",
    "\n",
    "    return X, y"
   ]
  },
  {
   "cell_type": "code",
   "execution_count": 69,
   "metadata": {
    "collapsed": true
   },
   "outputs": [],
   "source": [
    "def train_pattern_classifier(target_chart_id):\n",
    "    db = get_database()\n",
    "    chart_data = get_chart_data(db, target_chart_id)\n",
    "    classifier = get_random_forest_classifier()\n",
    "    candles = chart_data['candles']\n",
    "    print('Found %s data points', len(candles))\n",
    "    X,y = prepare_candle_data(candles[0:2], 'buy')\n",
    "    classifier.train(X,y)\n",
    "    save_random_forest_classifier(db, classifier)\n"
   ]
  },
  {
   "cell_type": "code",
   "execution_count": 57,
   "metadata": {
    "collapsed": false
   },
   "outputs": [],
   "source": [
    "target_chart_id = '572e06a17f9b5e6f45a0c8c6'"
   ]
  },
  {
   "cell_type": "code",
   "execution_count": 53,
   "metadata": {
    "collapsed": false
   },
   "outputs": [
    {
     "name": "stdout",
     "output_type": "stream",
     "text": [
      "{u'date': {u'utc': 1420117200.0, u'hour': 13, u'month': 1, u'year': 2015, u'day': 1, u'minute': 0}, u'candle': {u'high': 1.20977, u'close': 1.20962, u'open': 1.20965, u'low': 1.20962}, u'id': 1462634008.363468}\n"
     ]
    }
   ],
   "source": [
    "train_pattern_classifier(target_chart_id)"
   ]
  },
  {
   "cell_type": "code",
   "execution_count": 73,
   "metadata": {
    "collapsed": true
   },
   "outputs": [],
   "source": [
    "db = get_database()"
   ]
  },
  {
   "cell_type": "code",
   "execution_count": 76,
   "metadata": {
    "collapsed": false
   },
   "outputs": [],
   "source": [
    "chart = db.candle_data.find_one()"
   ]
  },
  {
   "cell_type": "code",
   "execution_count": 78,
   "metadata": {
    "collapsed": false
   },
   "outputs": [],
   "source": [
    "\n",
    "def make_date_id_map(candles):\n",
    "    date_id_map = {}\n",
    "\n",
    "    for candle in candles:\n",
    "        date = candle['date']\n",
    "        formatted_date = '-'.join([str(date['year']), str(date['month']), str(date['day']), str(date['hour']), str(date['minute'])])\n",
    "        date_id_map[formatted_date] = candle\n",
    "    return date_id_map"
   ]
  },
  {
   "cell_type": "code",
   "execution_count": 79,
   "metadata": {
    "collapsed": true
   },
   "outputs": [],
   "source": [
    "candles = chart['candles']"
   ]
  },
  {
   "cell_type": "code",
   "execution_count": 80,
   "metadata": {
    "collapsed": false
   },
   "outputs": [
    {
     "data": {
      "text/plain": [
       "31017"
      ]
     },
     "execution_count": 80,
     "metadata": {},
     "output_type": "execute_result"
    }
   ],
   "source": [
    "len(candles)"
   ]
  },
  {
   "cell_type": "code",
   "execution_count": 83,
   "metadata": {
    "collapsed": true
   },
   "outputs": [],
   "source": [
    "id_map = make_date_id_map(candles)"
   ]
  },
  {
   "cell_type": "code",
   "execution_count": 85,
   "metadata": {
    "collapsed": false
   },
   "outputs": [
    {
     "data": {
      "text/plain": [
       "31017"
      ]
     },
     "execution_count": 85,
     "metadata": {},
     "output_type": "execute_result"
    }
   ],
   "source": [
    "len(id_map)"
   ]
  },
  {
   "cell_type": "code",
   "execution_count": 88,
   "metadata": {
    "collapsed": false
   },
   "outputs": [
    {
     "data": {
      "text/plain": [
       "31017"
      ]
     },
     "execution_count": 88,
     "metadata": {},
     "output_type": "execute_result"
    }
   ],
   "source": [
    "len(id_map.keys())"
   ]
  },
  {
   "cell_type": "code",
   "execution_count": null,
   "metadata": {
    "collapsed": true
   },
   "outputs": [],
   "source": []
  }
 ],
 "metadata": {
  "kernelspec": {
   "display_name": "Python 2",
   "language": "python",
   "name": "python2"
  },
  "language_info": {
   "codemirror_mode": {
    "name": "ipython",
    "version": 2
   },
   "file_extension": ".py",
   "mimetype": "text/x-python",
   "name": "python",
   "nbconvert_exporter": "python",
   "pygments_lexer": "ipython2",
   "version": "2.7.10"
  }
 },
 "nbformat": 4,
 "nbformat_minor": 0
}
