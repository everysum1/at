{
 "cells": [
  {
   "cell_type": "code",
   "execution_count": 57,
   "metadata": {
    "collapsed": true
   },
   "outputs": [],
   "source": [
    "import os\n",
    "os.environ['MONGODB_HOSTS'] = 'localhost'\n",
    "os.environ['MONGODB_USER'] = 'josh'\n",
    "os.environ['MONGODB_PASSWORD'] = '1234'"
   ]
  },
  {
   "cell_type": "code",
   "execution_count": 58,
   "metadata": {
    "collapsed": false
   },
   "outputs": [],
   "source": [
    "from bson import ObjectId\n",
    "\n",
    "from trading.db import get_database, transform_son\n",
    "from trading.classifier.random_forest import RFClassifier"
   ]
  },
  {
   "cell_type": "code",
   "execution_count": 59,
   "metadata": {
    "collapsed": true
   },
   "outputs": [],
   "source": [
    "def get_chart_data(db, chart_id):\n",
    "    chart = db.candle_data.find_one({'_id': ObjectId(chart_id)})\n",
    "    return transform_son(chart)"
   ]
  },
  {
   "cell_type": "code",
   "execution_count": 60,
   "metadata": {
    "collapsed": true
   },
   "outputs": [],
   "source": [
    "def get_random_forest_classifier():\n",
    "    config = {'classifier_id': None}\n",
    "    rf_classifier = RFClassifier(config)\n",
    "    return rf_classifier"
   ]
  },
  {
   "cell_type": "code",
   "execution_count": 61,
   "metadata": {
    "collapsed": false
   },
   "outputs": [],
   "source": [
    "def save_random_forest_classifier(db, rf):\n",
    "    serialized_classifier = rf.serialize()\n",
    "    classifier_obj = {\n",
    "        'classifier': serialized_classifier,\n",
    "        'flags': ['pattern'],\n",
    "        '_id': ObjectId()\n",
    "    }\n",
    "    db.classifiers.insert(classifier_obj)\n",
    "    print 'Inserted Classifier Id {classifier_id}'.format(classifier_id=classifier_obj['_id'])"
   ]
  },
  {
   "cell_type": "code",
   "execution_count": 62,
   "metadata": {
    "collapsed": false
   },
   "outputs": [],
   "source": [
    "def prepare_candle_data(candles):\n",
    "    X = []\n",
    "    y = []\n",
    "\n",
    "    features = ['close', 'open', 'high', 'low']\n",
    "\n",
    "    for tick_data in candles:\n",
    "        candle_data = tick_data['candle']\n",
    "        data = []\n",
    "        for feature in features:\n",
    "            data.append(candle_data[feature])\n",
    "        if 'pattern' in tick_data:\n",
    "            y.append(tick_data['pattern'])\n",
    "        else:\n",
    "            y.append('None')\n",
    "        X.append(data)\n",
    "\n",
    "    return X, y"
   ]
  },
  {
   "cell_type": "code",
   "execution_count": 63,
   "metadata": {
    "collapsed": false
   },
   "outputs": [],
   "source": [
    "def validate_classifier(classifier, X):\n",
    "    for i, tick in enumerate(X):\n",
    "        if i > 1000:\n",
    "            continue\n",
    "        prediction = classifier.predict([tick])\n",
    "        if prediction[0] != 'None':\n",
    "            print prediction"
   ]
  },
  {
   "cell_type": "code",
   "execution_count": 64,
   "metadata": {
    "collapsed": false
   },
   "outputs": [],
   "source": [
    "def train_pattern_classifier(target_chart_id):\n",
    "    db = get_database()\n",
    "    chart_data = get_chart_data(db, target_chart_id)\n",
    "    classifier = get_random_forest_classifier()\n",
    "    candles = chart_data['candles']\n",
    "    print('Found %s data points', len(candles))\n",
    "    X,y = prepare_candle_data(candles)\n",
    "    classifier.train(X,y)\n",
    "    validate_classifier(classifier, X)\n",
    "    save_random_forest_classifier(db, classifier)"
   ]
  },
  {
   "cell_type": "code",
   "execution_count": 65,
   "metadata": {
    "collapsed": false
   },
   "outputs": [],
   "source": [
    "target_chart_id = '57432ee47f9b5ebaa14c83f8'"
   ]
  },
  {
   "cell_type": "code",
   "execution_count": 66,
   "metadata": {
    "collapsed": false
   },
   "outputs": [
    {
     "name": "stdout",
     "output_type": "stream",
     "text": [
      "('Found %s data points', 12210)\n",
      "MarketPrediction(decision=array([u'sell'], \n",
      "      dtype='<U4'))\n",
      "MarketPrediction(decision=array([u'buy'], \n",
      "      dtype='<U4'))\n",
      "MarketPrediction(decision=array([u'sell'], \n",
      "      dtype='<U4'))\n",
      "MarketPrediction(decision=array([u'sell'], \n",
      "      dtype='<U4'))\n",
      "MarketPrediction(decision=array([u'sell'], \n",
      "      dtype='<U4'))\n",
      "MarketPrediction(decision=array([u'buy'], \n",
      "      dtype='<U4'))\n",
      "MarketPrediction(decision=array([u'buy'], \n",
      "      dtype='<U4'))\n",
      "MarketPrediction(decision=array([u'sell'], \n",
      "      dtype='<U4'))\n",
      "MarketPrediction(decision=array([u'buy'], \n",
      "      dtype='<U4'))\n",
      "MarketPrediction(decision=array([u'sell'], \n",
      "      dtype='<U4'))\n",
      "MarketPrediction(decision=array([u'buy'], \n",
      "      dtype='<U4'))\n",
      "MarketPrediction(decision=array([u'sell'], \n",
      "      dtype='<U4'))\n",
      "MarketPrediction(decision=array([u'buy'], \n",
      "      dtype='<U4'))\n",
      "MarketPrediction(decision=array([u'sell'], \n",
      "      dtype='<U4'))\n",
      "MarketPrediction(decision=array([u'sell'], \n",
      "      dtype='<U4'))\n",
      "MarketPrediction(decision=array([u'buy'], \n",
      "      dtype='<U4'))\n",
      "MarketPrediction(decision=array([u'sell'], \n",
      "      dtype='<U4'))\n",
      "MarketPrediction(decision=array([u'sell'], \n",
      "      dtype='<U4'))\n",
      "MarketPrediction(decision=array([u'buy'], \n",
      "      dtype='<U4'))\n",
      "MarketPrediction(decision=array([u'sell'], \n",
      "      dtype='<U4'))\n",
      "MarketPrediction(decision=array([u'buy'], \n",
      "      dtype='<U4'))\n",
      "MarketPrediction(decision=array([u'buy'], \n",
      "      dtype='<U4'))\n",
      "MarketPrediction(decision=array([u'buy'], \n",
      "      dtype='<U4'))\n",
      "MarketPrediction(decision=array([u'sell'], \n",
      "      dtype='<U4'))\n",
      "MarketPrediction(decision=array([u'buy'], \n",
      "      dtype='<U4'))\n",
      "MarketPrediction(decision=array([u'buy'], \n",
      "      dtype='<U4'))\n",
      "MarketPrediction(decision=array([u'sell'], \n",
      "      dtype='<U4'))\n",
      "MarketPrediction(decision=array([u'sell'], \n",
      "      dtype='<U4'))\n",
      "MarketPrediction(decision=array([u'buy'], \n",
      "      dtype='<U4'))\n",
      "MarketPrediction(decision=array([u'buy'], \n",
      "      dtype='<U4'))\n",
      "MarketPrediction(decision=array([u'buy'], \n",
      "      dtype='<U4'))\n",
      "MarketPrediction(decision=array([u'sell'], \n",
      "      dtype='<U4'))\n",
      "MarketPrediction(decision=array([u'buy'], \n",
      "      dtype='<U4'))\n",
      "MarketPrediction(decision=array([u'sell'], \n",
      "      dtype='<U4'))\n",
      "MarketPrediction(decision=array([u'buy'], \n",
      "      dtype='<U4'))\n",
      "MarketPrediction(decision=array([u'buy'], \n",
      "      dtype='<U4'))\n",
      "MarketPrediction(decision=array([u'sell'], \n",
      "      dtype='<U4'))\n",
      "MarketPrediction(decision=array([u'sell'], \n",
      "      dtype='<U4'))\n",
      "MarketPrediction(decision=array([u'buy'], \n",
      "      dtype='<U4'))\n",
      "MarketPrediction(decision=array([u'sell'], \n",
      "      dtype='<U4'))\n",
      "MarketPrediction(decision=array([u'sell'], \n",
      "      dtype='<U4'))\n",
      "MarketPrediction(decision=array([u'buy'], \n",
      "      dtype='<U4'))\n",
      "MarketPrediction(decision=array([u'buy'], \n",
      "      dtype='<U4'))\n",
      "MarketPrediction(decision=array([u'sell'], \n",
      "      dtype='<U4'))\n",
      "MarketPrediction(decision=array([u'buy'], \n",
      "      dtype='<U4'))\n",
      "MarketPrediction(decision=array([u'buy'], \n",
      "      dtype='<U4'))\n",
      "MarketPrediction(decision=array([u'sell'], \n",
      "      dtype='<U4'))\n",
      "MarketPrediction(decision=array([u'sell'], \n",
      "      dtype='<U4'))\n",
      "MarketPrediction(decision=array([u'buy'], \n",
      "      dtype='<U4'))\n",
      "MarketPrediction(decision=array([u'buy'], \n",
      "      dtype='<U4'))\n",
      "MarketPrediction(decision=array([u'buy'], \n",
      "      dtype='<U4'))\n",
      "MarketPrediction(decision=array([u'sell'], \n",
      "      dtype='<U4'))\n",
      "MarketPrediction(decision=array([u'buy'], \n",
      "      dtype='<U4'))\n",
      "MarketPrediction(decision=array([u'sell'], \n",
      "      dtype='<U4'))\n",
      "MarketPrediction(decision=array([u'sell'], \n",
      "      dtype='<U4'))\n",
      "MarketPrediction(decision=array([u'buy'], \n",
      "      dtype='<U4'))\n",
      "MarketPrediction(decision=array([u'buy'], \n",
      "      dtype='<U4'))\n",
      "MarketPrediction(decision=array([u'buy'], \n",
      "      dtype='<U4'))\n",
      "MarketPrediction(decision=array([u'buy'], \n",
      "      dtype='<U4'))\n",
      "MarketPrediction(decision=array([u'sell'], \n",
      "      dtype='<U4'))\n",
      "MarketPrediction(decision=array([u'sell'], \n",
      "      dtype='<U4'))\n",
      "MarketPrediction(decision=array([u'buy'], \n",
      "      dtype='<U4'))\n",
      "MarketPrediction(decision=array([u'sell'], \n",
      "      dtype='<U4'))\n",
      "MarketPrediction(decision=array([u'sell'], \n",
      "      dtype='<U4'))\n",
      "MarketPrediction(decision=array([u'sell'], \n",
      "      dtype='<U4'))\n",
      "MarketPrediction(decision=array([u'buy'], \n",
      "      dtype='<U4'))\n",
      "MarketPrediction(decision=array([u'sell'], \n",
      "      dtype='<U4'))\n",
      "MarketPrediction(decision=array([u'sell'], \n",
      "      dtype='<U4'))\n",
      "MarketPrediction(decision=array([u'buy'], \n",
      "      dtype='<U4'))\n",
      "MarketPrediction(decision=array([u'sell'], \n",
      "      dtype='<U4'))\n",
      "MarketPrediction(decision=array([u'buy'], \n",
      "      dtype='<U4'))\n",
      "MarketPrediction(decision=array([u'buy'], \n",
      "      dtype='<U4'))\n",
      "MarketPrediction(decision=array([u'buy'], \n",
      "      dtype='<U4'))\n",
      "MarketPrediction(decision=array([u'buy'], \n",
      "      dtype='<U4'))\n",
      "MarketPrediction(decision=array([u'buy'], \n",
      "      dtype='<U4'))\n",
      "MarketPrediction(decision=array([u'sell'], \n",
      "      dtype='<U4'))\n",
      "MarketPrediction(decision=array([u'buy'], \n",
      "      dtype='<U4'))\n",
      "MarketPrediction(decision=array([u'sell'], \n",
      "      dtype='<U4'))\n",
      "MarketPrediction(decision=array([u'buy'], \n",
      "      dtype='<U4'))\n",
      "MarketPrediction(decision=array([u'buy'], \n",
      "      dtype='<U4'))\n",
      "MarketPrediction(decision=array([u'sell'], \n",
      "      dtype='<U4'))\n",
      "MarketPrediction(decision=array([u'sell'], \n",
      "      dtype='<U4'))\n",
      "MarketPrediction(decision=array([u'buy'], \n",
      "      dtype='<U4'))\n",
      "MarketPrediction(decision=array([u'sell'], \n",
      "      dtype='<U4'))\n",
      "MarketPrediction(decision=array([u'sell'], \n",
      "      dtype='<U4'))\n",
      "MarketPrediction(decision=array([u'sell'], \n",
      "      dtype='<U4'))\n",
      "MarketPrediction(decision=array([u'buy'], \n",
      "      dtype='<U4'))\n",
      "MarketPrediction(decision=array([u'buy'], \n",
      "      dtype='<U4'))\n",
      "MarketPrediction(decision=array([u'buy'], \n",
      "      dtype='<U4'))\n",
      "MarketPrediction(decision=array([u'sell'], \n",
      "      dtype='<U4'))\n",
      "MarketPrediction(decision=array([u'sell'], \n",
      "      dtype='<U4'))\n",
      "MarketPrediction(decision=array([u'sell'], \n",
      "      dtype='<U4'))\n",
      "MarketPrediction(decision=array([u'sell'], \n",
      "      dtype='<U4'))\n",
      "MarketPrediction(decision=array([u'sell'], \n",
      "      dtype='<U4'))\n",
      "MarketPrediction(decision=array([u'buy'], \n",
      "      dtype='<U4'))\n",
      "MarketPrediction(decision=array([u'buy'], \n",
      "      dtype='<U4'))\n",
      "MarketPrediction(decision=array([u'sell'], \n",
      "      dtype='<U4'))\n",
      "MarketPrediction(decision=array([u'sell'], \n",
      "      dtype='<U4'))\n",
      "Inserted Classifier Id 574db8431689015f6096544c\n"
     ]
    },
    {
     "name": "stderr",
     "output_type": "stream",
     "text": [
      "/usr/local/lib/python2.7/site-packages/ipykernel/__main__.py:8: DeprecationWarning: insert is deprecated. Use insert_one or insert_many instead.\n"
     ]
    }
   ],
   "source": [
    "classifier = train_pattern_classifier(target_chart_id)"
   ]
  },
  {
   "cell_type": "code",
   "execution_count": 48,
   "metadata": {
    "collapsed": true
   },
   "outputs": [],
   "source": [
    "db = get_database()"
   ]
  },
  {
   "cell_type": "code",
   "execution_count": 50,
   "metadata": {
    "collapsed": false
   },
   "outputs": [],
   "source": [
    "chart = db.candle_data.find_one()"
   ]
  },
  {
   "cell_type": "code",
   "execution_count": 20,
   "metadata": {
    "collapsed": false
   },
   "outputs": [],
   "source": [
    "def make_date_id_map(candles):\n",
    "    date_id_map = {}\n",
    "\n",
    "    for candle in candles:\n",
    "        date = candle['date']\n",
    "        formatted_date = '-'.join([str(date['year']), str(date['month']), str(date['day']), str(date['hour']), str(date['minute'])])\n",
    "        date_id_map[formatted_date] = candle\n",
    "    return date_id_map"
   ]
  },
  {
   "cell_type": "code",
   "execution_count": 12,
   "metadata": {
    "collapsed": false
   },
   "outputs": [
    {
     "ename": "NameError",
     "evalue": "name 'chart' is not defined",
     "output_type": "error",
     "traceback": [
      "\u001b[0;31m---------------------------------------------------------------------------\u001b[0m",
      "\u001b[0;31mNameError\u001b[0m                                 Traceback (most recent call last)",
      "\u001b[0;32m<ipython-input-12-d8aafd0b53e2>\u001b[0m in \u001b[0;36m<module>\u001b[0;34m()\u001b[0m\n\u001b[0;32m----> 1\u001b[0;31m \u001b[0mcandles\u001b[0m \u001b[0;34m=\u001b[0m \u001b[0mchart\u001b[0m\u001b[0;34m[\u001b[0m\u001b[0;34m'candles'\u001b[0m\u001b[0;34m]\u001b[0m\u001b[0;34m\u001b[0m\u001b[0m\n\u001b[0m",
      "\u001b[0;31mNameError\u001b[0m: name 'chart' is not defined"
     ]
    }
   ],
   "source": [
    "candles = chart['candles']"
   ]
  },
  {
   "cell_type": "code",
   "execution_count": 15,
   "metadata": {
    "collapsed": false
   },
   "outputs": [
    {
     "data": {
      "text/plain": [
       "30000"
      ]
     },
     "execution_count": 15,
     "metadata": {},
     "output_type": "execute_result"
    }
   ],
   "source": [
    "len(candles)"
   ]
  },
  {
   "cell_type": "code",
   "execution_count": 16,
   "metadata": {
    "collapsed": true
   },
   "outputs": [],
   "source": [
    "id_map = make_date_id_map(candles)"
   ]
  },
  {
   "cell_type": "code",
   "execution_count": 17,
   "metadata": {
    "collapsed": false
   },
   "outputs": [
    {
     "data": {
      "text/plain": [
       "30000"
      ]
     },
     "execution_count": 17,
     "metadata": {},
     "output_type": "execute_result"
    }
   ],
   "source": [
    "len(id_map)"
   ]
  },
  {
   "cell_type": "code",
   "execution_count": 18,
   "metadata": {
    "collapsed": false
   },
   "outputs": [
    {
     "data": {
      "text/plain": [
       "30000"
      ]
     },
     "execution_count": 18,
     "metadata": {},
     "output_type": "execute_result"
    }
   ],
   "source": [
    "len(id_map.keys())"
   ]
  },
  {
   "cell_type": "code",
   "execution_count": null,
   "metadata": {
    "collapsed": true
   },
   "outputs": [],
   "source": []
  },
  {
   "cell_type": "code",
   "execution_count": null,
   "metadata": {
    "collapsed": true
   },
   "outputs": [],
   "source": []
  }
 ],
 "metadata": {
  "kernelspec": {
   "display_name": "Python 2",
   "language": "python",
   "name": "python2"
  },
  "language_info": {
   "codemirror_mode": {
    "name": "ipython",
    "version": 2
   },
   "file_extension": ".py",
   "mimetype": "text/x-python",
   "name": "python",
   "nbconvert_exporter": "python",
   "pygments_lexer": "ipython2",
   "version": "2.7.11"
  }
 },
 "nbformat": 4,
 "nbformat_minor": 0
}
