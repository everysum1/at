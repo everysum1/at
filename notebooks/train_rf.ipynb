{
 "cells": [
  {
   "cell_type": "code",
   "execution_count": 1,
   "metadata": {
    "collapsed": false
   },
   "outputs": [],
   "source": [
    "import os\n",
    "os.environ['ONANDA_ENV'] = 'practice'\n",
    "os.environ['OANDA_ACCOUNT_ID']=''\n",
    "os.environ['OANDA_ENV']=''\n",
    "os.environ['OANDA_ACCESS_TOKEN']=''\n",
    "os.environ['MONGODB_HOSTS'] = ''\n",
    "os.environ['MONGODB_USER'] = ''\n",
    "os.environ['MONGODB_PASSWORD'] = ''"
   ]
  },
  {
   "cell_type": "code",
   "execution_count": 2,
   "metadata": {
    "collapsed": false
   },
   "outputs": [],
   "source": [
    "from trading.algorithms.moving_average_crossover import MAC\n",
    "from trading.broker.oanda import OandaBroker\n",
    "from trading.classifier.random_forest import RFClassifier\n",
    "from trading.scripts.training import get_training_data\n",
    "from trading.training_strategies.base import TrainingStrategy"
   ]
  },
  {
   "cell_type": "code",
   "execution_count": 3,
   "metadata": {
    "collapsed": true
   },
   "outputs": [],
   "source": [
    "instrument = 'EUR_USD'\n",
    "count = 20 # number of data points to look back\n",
    "granularity = 'D' # Day\n",
    "pair_a = {'name': 'EUR', 'amount': 1000}\n",
    "pair_b = {'name': 'USD', 'amount': 1000}\n",
    "config = {\n",
    "    'instrument': instrument,\n",
    "    'pair_a': pair_a,\n",
    "    'pair_b': pair_b\n",
    "}\n",
    "strategy_id = None"
   ]
  },
  {
   "cell_type": "code",
   "execution_count": 6,
   "metadata": {
    "collapsed": false
   },
   "outputs": [
    {
     "name": "stdout",
     "output_type": "stream",
     "text": [
      "[INFO] message: Starting Portfolio data: Instrument EUR_USD Profit 0 Pair A: {'amount': 1000, 'initial_currency': 1000, 'name': 'EUR', 'tradeable_currency': 1000} Pair B: {'amount': 1000, 'initial_currency': 1000, 'name': 'USD', 'tradeable_currency': 1000}\n"
     ]
    }
   ],
   "source": [
    "strategy = MAC(config, strategy_id)\n",
    "broker = OandaBroker()\n",
    "training_strategy = TrainingStrategy(strategy, broker, instrument, granularity, count)"
   ]
  },
  {
   "cell_type": "code",
   "execution_count": 7,
   "metadata": {
    "collapsed": false
   },
   "outputs": [
    {
     "name": "stdout",
     "output_type": "stream",
     "text": [
      "[INFO] message: Tick Number: 0\n",
      "[INFO] message: Order decision buy and market order MarketOrder(instrument='EUR_USD', units=895.0708448573705, side='buy', type='market', price=1.11723, expiry='2016-04-24T22:00:30.115957Z')\n",
      "[INFO] message: Order Response\n",
      "[INFO] message: Tick Number: 1\n",
      "[INFO] message: Order decision buy and market order MarketOrder(instrument='EUR_USD', units=895.0708448573705, side='buy', type='market', price=1.11723, expiry='2016-04-24T22:00:30.116743Z')\n",
      "[INFO] message: Order Response\n",
      "[INFO] message: Tick Number: 2\n",
      "[INFO] message: Order decision buy and market order MarketOrder(instrument='EUR_USD', units=895.0708448573705, side='buy', type='market', price=1.11723, expiry='2016-04-24T22:00:30.117275Z')\n",
      "[INFO] message: Order Response\n",
      "[INFO] message: Tick Number: 3\n",
      "[INFO] message: Order decision buy and market order MarketOrder(instrument='EUR_USD', units=895.0708448573705, side='buy', type='market', price=1.11723, expiry='2016-04-24T22:00:30.117778Z')\n",
      "[INFO] message: Order Response\n",
      "[INFO] message: Tick Number: 4\n",
      "[INFO] message: Order decision buy and market order MarketOrder(instrument='EUR_USD', units=895.0708448573705, side='buy', type='market', price=1.11723, expiry='2016-04-24T22:00:30.118225Z')\n",
      "[INFO] message: Order Response\n",
      "[INFO] message: Tick Number: 5\n",
      "[INFO] message: Order decision buy and market order MarketOrder(instrument='EUR_USD', units=895.0708448573705, side='buy', type='market', price=1.11723, expiry='2016-04-24T22:00:30.118790Z')\n",
      "[INFO] message: Order Response\n",
      "[INFO] message: Tick Number: 6\n",
      "[INFO] message: Order decision buy and market order MarketOrder(instrument='EUR_USD', units=895.0708448573705, side='buy', type='market', price=1.11723, expiry='2016-04-24T22:00:30.119083Z')\n",
      "[INFO] message: Order Response\n",
      "[INFO] message: Tick Number: 7\n",
      "[INFO] message: Order decision buy and market order MarketOrder(instrument='EUR_USD', units=895.0708448573705, side='buy', type='market', price=1.11723, expiry='2016-04-24T22:00:30.119339Z')\n",
      "[INFO] message: Order Response\n",
      "[INFO] message: Tick Number: 8\n",
      "[INFO] message: Order decision buy and market order MarketOrder(instrument='EUR_USD', units=895.0708448573705, side='buy', type='market', price=1.11723, expiry='2016-04-24T22:00:30.119594Z')\n",
      "[INFO] message: Order Response\n",
      "[INFO] message: Tick Number: 9\n",
      "[INFO] message: Order decision buy and market order MarketOrder(instrument='EUR_USD', units=895.0708448573705, side='buy', type='market', price=1.11723, expiry='2016-04-24T22:00:30.119840Z')\n",
      "[INFO] message: Order Response\n",
      "[INFO] message: Tick Number: 10\n",
      "[INFO] message: Order decision buy and market order MarketOrder(instrument='EUR_USD', units=895.0708448573705, side='buy', type='market', price=1.11723, expiry='2016-04-24T22:00:30.120104Z')\n",
      "[INFO] message: Order Response\n",
      "[INFO] message: Tick Number: 11\n",
      "[INFO] message: Order decision buy and market order MarketOrder(instrument='EUR_USD', units=895.0708448573705, side='buy', type='market', price=1.11723, expiry='2016-04-24T22:00:30.120406Z')\n",
      "[INFO] message: Order Response\n",
      "[INFO] message: Tick Number: 12\n",
      "[INFO] message: Order decision buy and market order MarketOrder(instrument='EUR_USD', units=895.0708448573705, side='buy', type='market', price=1.11723, expiry='2016-04-24T22:00:30.120797Z')\n",
      "[INFO] message: Order Response\n",
      "[INFO] message: Tick Number: 13\n",
      "[INFO] message: Order decision buy and market order MarketOrder(instrument='EUR_USD', units=895.0708448573705, side='buy', type='market', price=1.11723, expiry='2016-04-24T22:00:30.121199Z')\n",
      "[INFO] message: Order Response\n",
      "[INFO] message: Tick Number: 14\n",
      "[INFO] message: Order decision buy and market order MarketOrder(instrument='EUR_USD', units=895.0708448573705, side='buy', type='market', price=1.11723, expiry='2016-04-24T22:00:30.121536Z')\n",
      "[INFO] message: Order Response\n",
      "[INFO] message: Tick Number: 15\n",
      "[INFO] message: Order decision buy and market order MarketOrder(instrument='EUR_USD', units=895.0708448573705, side='buy', type='market', price=1.11723, expiry='2016-04-24T22:00:30.122143Z')\n",
      "[INFO] message: Order Response\n",
      "[INFO] message: Tick Number: 16\n",
      "[INFO] message: Order decision buy and market order MarketOrder(instrument='EUR_USD', units=895.0708448573705, side='buy', type='market', price=1.11723, expiry='2016-04-24T22:00:30.122432Z')\n",
      "[INFO] message: Order Response\n",
      "[INFO] message: Tick Number: 17\n",
      "[INFO] message: Order decision buy and market order MarketOrder(instrument='EUR_USD', units=895.0708448573705, side='buy', type='market', price=1.11723, expiry='2016-04-24T22:00:30.122848Z')\n",
      "[INFO] message: Order Response\n",
      "[INFO] message: Tick Number: 18\n",
      "[INFO] message: Order decision buy and market order MarketOrder(instrument='EUR_USD', units=895.0708448573705, side='buy', type='market', price=1.11723, expiry='2016-04-24T22:00:30.123074Z')\n",
      "[INFO] message: Order Response\n",
      "[INFO] message: Tick Number: 19\n",
      "[INFO] message: Order decision buy and market order MarketOrder(instrument='EUR_USD', units=895.0708448573705, side='buy', type='market', price=1.11723, expiry='2016-04-24T22:00:30.123299Z')\n",
      "[INFO] message: Order Response\n"
     ]
    }
   ],
   "source": [
    "strategy_data = training_strategy.tick()"
   ]
  },
  {
   "cell_type": "code",
   "execution_count": 8,
   "metadata": {
    "collapsed": true
   },
   "outputs": [],
   "source": [
    "from collections import OrderedDict"
   ]
  },
  {
   "cell_type": "code",
   "execution_count": 9,
   "metadata": {
    "collapsed": true
   },
   "outputs": [],
   "source": [
    "strategy_data = OrderedDict(strategy_data)"
   ]
  },
  {
   "cell_type": "code",
   "execution_count": 29,
   "metadata": {
    "collapsed": false
   },
   "outputs": [
    {
     "data": {
      "text/plain": [
       "OrderedDict([(0,\n",
       "              {'decision': 'buy',\n",
       "               'long_term_ma': Decimal('1.1098285000000005506848310687928460538387298583984375'),\n",
       "               'short_term_ma': Decimal('1.120240999999999598202293782378546893596649169921875')}),\n",
       "             (1,\n",
       "              {'decision': 'buy',\n",
       "               'long_term_ma': Decimal('1.109828500000000328640226143761537969112396240234375'),\n",
       "               'short_term_ma': Decimal('1.120240999999999598202293782378546893596649169921875')}),\n",
       "             (2,\n",
       "              {'decision': 'buy',\n",
       "               'long_term_ma': Decimal('1.109828500000000328640226143761537969112396240234375'),\n",
       "               'short_term_ma': Decimal('1.12024100000000004229150363244116306304931640625')}),\n",
       "             (3,\n",
       "              {'decision': 'buy',\n",
       "               'long_term_ma': Decimal('1.109828500000000328640226143761537969112396240234375'),\n",
       "               'short_term_ma': Decimal('1.120240999999999598202293782378546893596649169921875')}),\n",
       "             (4,\n",
       "              {'decision': 'buy',\n",
       "               'long_term_ma': Decimal('1.109828500000000328640226143761537969112396240234375'),\n",
       "               'short_term_ma': Decimal('1.120240999999999598202293782378546893596649169921875')}),\n",
       "             (5,\n",
       "              {'decision': 'buy',\n",
       "               'long_term_ma': Decimal('1.109828500000000328640226143761537969112396240234375'),\n",
       "               'short_term_ma': Decimal('1.120240999999999598202293782378546893596649169921875')}),\n",
       "             (6,\n",
       "              {'decision': 'buy',\n",
       "               'long_term_ma': Decimal('1.109828500000000328640226143761537969112396240234375'),\n",
       "               'short_term_ma': Decimal('1.120240999999999598202293782378546893596649169921875')}),\n",
       "             (7,\n",
       "              {'decision': 'buy',\n",
       "               'long_term_ma': Decimal('1.109828500000000328640226143761537969112396240234375'),\n",
       "               'short_term_ma': Decimal('1.120240999999999598202293782378546893596649169921875')}),\n",
       "             (8,\n",
       "              {'decision': 'buy',\n",
       "               'long_term_ma': Decimal('1.1098285000000005506848310687928460538387298583984375'),\n",
       "               'short_term_ma': Decimal('1.12024100000000004229150363244116306304931640625')}),\n",
       "             (9,\n",
       "              {'decision': 'buy',\n",
       "               'long_term_ma': Decimal('1.109828500000000328640226143761537969112396240234375'),\n",
       "               'short_term_ma': Decimal('1.120240999999999598202293782378546893596649169921875')}),\n",
       "             (10,\n",
       "              {'decision': 'buy',\n",
       "               'long_term_ma': Decimal('1.109828500000000328640226143761537969112396240234375'),\n",
       "               'short_term_ma': Decimal('1.12024100000000004229150363244116306304931640625')}),\n",
       "             (11,\n",
       "              {'decision': 'buy',\n",
       "               'long_term_ma': Decimal('1.109828500000000328640226143761537969112396240234375'),\n",
       "               'short_term_ma': Decimal('1.120240999999999598202293782378546893596649169921875')}),\n",
       "             (12,\n",
       "              {'decision': 'buy',\n",
       "               'long_term_ma': Decimal('1.109828500000000328640226143761537969112396240234375'),\n",
       "               'short_term_ma': Decimal('1.120240999999999598202293782378546893596649169921875')}),\n",
       "             (13,\n",
       "              {'decision': 'buy',\n",
       "               'long_term_ma': Decimal('1.109828500000000328640226143761537969112396240234375'),\n",
       "               'short_term_ma': Decimal('1.120240999999999598202293782378546893596649169921875')}),\n",
       "             (14,\n",
       "              {'decision': 'buy',\n",
       "               'long_term_ma': Decimal('1.1098285000000001065956212187302298843860626220703125'),\n",
       "               'short_term_ma': Decimal('1.120240999999999598202293782378546893596649169921875')}),\n",
       "             (15,\n",
       "              {'decision': 'buy',\n",
       "               'long_term_ma': Decimal('1.1098285000000001065956212187302298843860626220703125'),\n",
       "               'short_term_ma': Decimal('1.120240999999999598202293782378546893596649169921875')}),\n",
       "             (16,\n",
       "              {'decision': 'buy',\n",
       "               'long_term_ma': Decimal('1.1098285000000001065956212187302298843860626220703125'),\n",
       "               'short_term_ma': Decimal('1.120240999999999598202293782378546893596649169921875')}),\n",
       "             (17,\n",
       "              {'decision': 'buy',\n",
       "               'long_term_ma': Decimal('1.1098285000000001065956212187302298843860626220703125'),\n",
       "               'short_term_ma': Decimal('1.12024100000000004229150363244116306304931640625')}),\n",
       "             (18,\n",
       "              {'decision': 'buy',\n",
       "               'long_term_ma': Decimal('1.1098285000000001065956212187302298843860626220703125'),\n",
       "               'short_term_ma': Decimal('1.12024100000000004229150363244116306304931640625')}),\n",
       "             (19,\n",
       "              {'decision': 'buy',\n",
       "               'long_term_ma': Decimal('1.1098285000000001065956212187302298843860626220703125'),\n",
       "               'short_term_ma': Decimal('1.12024100000000004229150363244116306304931640625')})])"
      ]
     },
     "execution_count": 29,
     "metadata": {},
     "output_type": "execute_result"
    }
   ],
   "source": [
    "strategy_data"
   ]
  },
  {
   "cell_type": "code",
   "execution_count": 11,
   "metadata": {
    "collapsed": false
   },
   "outputs": [],
   "source": [
    "config = {'classifier_id': None}\n",
    "rfc = RFClassifier(config)"
   ]
  },
  {
   "cell_type": "code",
   "execution_count": 12,
   "metadata": {
    "collapsed": false
   },
   "outputs": [
    {
     "name": "stdout",
     "output_type": "stream",
     "text": [
      "[INFO] message: Training Features data: ['long_term_ma', 'decision', 'short_term_ma']\n"
     ]
    }
   ],
   "source": [
    "X, y = rfc.prepare_training_data(strategy_data)"
   ]
  },
  {
   "cell_type": "code",
   "execution_count": 14,
   "metadata": {
    "collapsed": false
   },
   "outputs": [],
   "source": [
    "rfc.train(X,y)"
   ]
  },
  {
   "cell_type": "code",
   "execution_count": 17,
   "metadata": {
    "collapsed": false
   },
   "outputs": [],
   "source": [
    "s = rfc.serialize()"
   ]
  },
  {
   "cell_type": "code",
   "execution_count": 19,
   "metadata": {
    "collapsed": false
   },
   "outputs": [],
   "source": [
    "from bson import ObjectId"
   ]
  },
  {
   "cell_type": "code",
   "execution_count": 22,
   "metadata": {
    "collapsed": false
   },
   "outputs": [],
   "source": [
    "from trading.db import get_database"
   ]
  },
  {
   "cell_type": "code",
   "execution_count": 26,
   "metadata": {
    "collapsed": false
   },
   "outputs": [],
   "source": [
    "db = get_database()"
   ]
  },
  {
   "cell_type": "code",
   "execution_count": 28,
   "metadata": {
    "collapsed": false
   },
   "outputs": [
    {
     "name": "stderr",
     "output_type": "stream",
     "text": [
      "/Users/jnewman/Projects/Trading_Env/lib/python2.7/site-packages/ipykernel/__main__.py:1: DeprecationWarning: insert is deprecated. Use insert_one or insert_many instead.\n",
      "  if __name__ == '__main__':\n"
     ]
    },
    {
     "data": {
      "text/plain": [
       "ObjectId('571bf11f16890198e1e0243d')"
      ]
     },
     "execution_count": 28,
     "metadata": {},
     "output_type": "execute_result"
    }
   ],
   "source": [
    "db.classifiers.insert({'name': 'rfc', 'classifier': s})"
   ]
  },
  {
   "cell_type": "code",
   "execution_count": null,
   "metadata": {
    "collapsed": true
   },
   "outputs": [],
   "source": [
    ""
   ]
  }
 ],
 "metadata": {
  "kernelspec": {
   "display_name": "Python 2",
   "language": "python",
   "name": "python2"
  },
  "language_info": {
   "codemirror_mode": {
    "name": "ipython",
    "version": 2.0
   },
   "file_extension": ".py",
   "mimetype": "text/x-python",
   "name": "python",
   "nbconvert_exporter": "python",
   "pygments_lexer": "ipython2",
   "version": "2.7.10"
  }
 },
 "nbformat": 4,
 "nbformat_minor": 0
}