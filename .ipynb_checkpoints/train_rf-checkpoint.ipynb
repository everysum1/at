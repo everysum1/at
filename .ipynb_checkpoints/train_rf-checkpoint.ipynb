{
 "cells": [
  {
   "cell_type": "code",
   "execution_count": 31,
   "metadata": {
    "collapsed": false
   },
   "outputs": [],
   "source": [
    "from trading.algorithms.moving_average_crossover import MAC\n",
    "from trading.broker.oanda import OandaBroker\n",
    "from trading.classifier.random_forest import RFClassifier\n",
    "from trading.scripts.training import get_training_data\n",
    "from trading.training_strategies.base import TrainingStrategy"
   ]
  },
  {
   "cell_type": "code",
   "execution_count": 32,
   "metadata": {
    "collapsed": true
   },
   "outputs": [],
   "source": [
    "instrument = 'EUR_USD'\n",
    "count = 20 # number of data points to look back\n",
    "granularity = 'D' # Day\n",
    "pair_a = {'name': 'EUR', 'amount': 1000}\n",
    "pair_b = {'name': 'USD', 'amount': 1000}"
   ]
  },
  {
   "cell_type": "code",
   "execution_count": 33,
   "metadata": {
    "collapsed": false
   },
   "outputs": [
    {
     "name": "stdout",
     "output_type": "stream",
     "text": [
      "{'amount': 1000, 'initial_currency': 1000, 'name': 'EUR', 'tradeable_currency': 1000}\n",
      "{'amount': 1000, 'initial_currency': 1000, 'name': 'USD', 'tradeable_currency': 1000}\n",
      "[INFO] message: Starting Portfolio data: Instrument EUR_USD Profit 0\n"
     ]
    }
   ],
   "source": [
    "strategy = MAC(instrument, pair_a, pair_b)\n",
    "broker = OandaBroker()\n",
    "training_strategy = TrainingStrategy(strategy, broker, instrument, granularity, count)"
   ]
  },
  {
   "cell_type": "code",
   "execution_count": 34,
   "metadata": {
    "collapsed": false
   },
   "outputs": [
    {
     "name": "stdout",
     "output_type": "stream",
     "text": [
      "[INFO] message: Tick Number: 0\n",
      "[INFO] message: {'long_term_ma': Decimal('1.107865500000000391622734241536818444728851318359375'), 'asking_price': 1.11821, 'short_term_ma': Decimal('1.120085999999999248899484882713295519351959228515625')}\n",
      "<type 'float'>\n",
      "<type 'int'>\n",
      "[INFO] message: Order decision buy and market order MarketOrder(instrument='EUR_USD', units=894.2864041637976, side='buy', type='market', price=1.11821, expiry='2016-04-21T05:46:27.129851Z')\n",
      "[INFO] message: Order Response\n",
      "[INFO] message: Tick Number: 1\n",
      "[INFO] message: {'long_term_ma': Decimal('1.107865500000000391622734241536818444728851318359375'), 'asking_price': 1.11821, 'short_term_ma': Decimal('1.120085999999999248899484882713295519351959228515625')}\n",
      "<type 'float'>\n",
      "<type 'int'>\n",
      "[INFO] message: Order decision buy and market order MarketOrder(instrument='EUR_USD', units=894.2864041637976, side='buy', type='market', price=1.11821, expiry='2016-04-21T05:46:27.130700Z')\n",
      "[INFO] message: Order Response\n",
      "[INFO] message: Tick Number: 2\n",
      "[INFO] message: {'long_term_ma': Decimal('1.1078655000000006136673391665681265294551849365234375'), 'asking_price': 1.11821, 'short_term_ma': Decimal('1.12008599999999969298869473277591168880462646484375')}\n",
      "<type 'float'>\n",
      "<type 'int'>\n",
      "[INFO] message: Order decision buy and market order MarketOrder(instrument='EUR_USD', units=894.2864041637976, side='buy', type='market', price=1.11821, expiry='2016-04-21T05:46:27.131153Z')\n",
      "[INFO] message: Order Response\n",
      "[INFO] message: Tick Number: 3\n",
      "[INFO] message: {'long_term_ma': Decimal('1.107865500000000391622734241536818444728851318359375'), 'asking_price': 1.11821, 'short_term_ma': Decimal('1.12008599999999969298869473277591168880462646484375')}\n",
      "<type 'float'>\n",
      "<type 'int'>\n",
      "[INFO] message: Order decision buy and market order MarketOrder(instrument='EUR_USD', units=894.2864041637976, side='buy', type='market', price=1.11821, expiry='2016-04-21T05:46:27.131538Z')\n",
      "[INFO] message: Order Response\n",
      "[INFO] message: Tick Number: 4\n",
      "[INFO] message: {'long_term_ma': Decimal('1.107865500000000391622734241536818444728851318359375'), 'asking_price': 1.11821, 'short_term_ma': Decimal('1.120086000000000137077904582838527858257293701171875')}\n",
      "<type 'float'>\n",
      "<type 'int'>\n",
      "[INFO] message: Order decision buy and market order MarketOrder(instrument='EUR_USD', units=894.2864041637976, side='buy', type='market', price=1.11821, expiry='2016-04-21T05:46:27.131902Z')\n",
      "[INFO] message: Order Response\n",
      "[INFO] message: Tick Number: 5\n",
      "[INFO] message: {'long_term_ma': Decimal('1.107865500000000391622734241536818444728851318359375'), 'asking_price': 1.11821, 'short_term_ma': Decimal('1.12008599999999969298869473277591168880462646484375')}\n",
      "<type 'float'>\n",
      "<type 'int'>\n",
      "[INFO] message: Order decision buy and market order MarketOrder(instrument='EUR_USD', units=894.2864041637976, side='buy', type='market', price=1.11821, expiry='2016-04-21T05:46:27.132264Z')\n",
      "[INFO] message: Order Response\n",
      "[INFO] message: Tick Number: 6\n",
      "[INFO] message: {'long_term_ma': Decimal('1.107865500000000391622734241536818444728851318359375'), 'asking_price': 1.11821, 'short_term_ma': Decimal('1.12008599999999969298869473277591168880462646484375')}\n",
      "<type 'float'>\n",
      "<type 'int'>\n",
      "[INFO] message: Order decision buy and market order MarketOrder(instrument='EUR_USD', units=894.2864041637976, side='buy', type='market', price=1.11821, expiry='2016-04-21T05:46:27.132626Z')\n",
      "[INFO] message: Order Response\n",
      "[INFO] message: Tick Number: 7\n",
      "[INFO] message: {'long_term_ma': Decimal('1.107865500000000391622734241536818444728851318359375'), 'asking_price': 1.11821, 'short_term_ma': Decimal('1.12008599999999969298869473277591168880462646484375')}\n",
      "<type 'float'>\n",
      "<type 'int'>\n",
      "[INFO] message: Order decision buy and market order MarketOrder(instrument='EUR_USD', units=894.2864041637976, side='buy', type='market', price=1.11821, expiry='2016-04-21T05:46:27.133030Z')\n",
      "[INFO] message: Order Response\n",
      "[INFO] message: Tick Number: 8\n",
      "[INFO] message: {'long_term_ma': Decimal('1.107865500000000391622734241536818444728851318359375'), 'asking_price': 1.11821, 'short_term_ma': Decimal('1.12008599999999969298869473277591168880462646484375')}\n",
      "<type 'float'>\n",
      "<type 'int'>\n",
      "[INFO] message: Order decision buy and market order MarketOrder(instrument='EUR_USD', units=894.2864041637976, side='buy', type='market', price=1.11821, expiry='2016-04-21T05:46:27.133340Z')\n",
      "[INFO] message: Order Response\n",
      "[INFO] message: Tick Number: 9\n",
      "[INFO] message: {'long_term_ma': Decimal('1.107865500000000391622734241536818444728851318359375'), 'asking_price': 1.11821, 'short_term_ma': Decimal('1.12008599999999969298869473277591168880462646484375')}\n",
      "<type 'float'>\n",
      "<type 'int'>\n",
      "[INFO] message: Order decision buy and market order MarketOrder(instrument='EUR_USD', units=894.2864041637976, side='buy', type='market', price=1.11821, expiry='2016-04-21T05:46:27.133668Z')\n",
      "[INFO] message: Order Response\n",
      "[INFO] message: Tick Number: 10\n",
      "[INFO] message: {'long_term_ma': Decimal('1.1078655000000006136673391665681265294551849365234375'), 'asking_price': 1.11821, 'short_term_ma': Decimal('1.120086000000000137077904582838527858257293701171875')}\n",
      "<type 'float'>\n",
      "<type 'int'>\n",
      "[INFO] message: Order decision buy and market order MarketOrder(instrument='EUR_USD', units=894.2864041637976, side='buy', type='market', price=1.11821, expiry='2016-04-21T05:46:27.133999Z')\n",
      "[INFO] message: Order Response\n",
      "[INFO] message: Tick Number: 11\n",
      "[INFO] message: {'long_term_ma': Decimal('1.107865500000000391622734241536818444728851318359375'), 'asking_price': 1.11821, 'short_term_ma': Decimal('1.12008599999999969298869473277591168880462646484375')}\n",
      "<type 'float'>\n",
      "<type 'int'>\n",
      "[INFO] message: Order decision buy and market order MarketOrder(instrument='EUR_USD', units=894.2864041637976, side='buy', type='market', price=1.11821, expiry='2016-04-21T05:46:27.134326Z')\n",
      "[INFO] message: Order Response\n",
      "[INFO] message: Tick Number: 12\n",
      "[INFO] message: {'long_term_ma': Decimal('1.107865500000000391622734241536818444728851318359375'), 'asking_price': 1.11821, 'short_term_ma': Decimal('1.120086000000000137077904582838527858257293701171875')}\n",
      "<type 'float'>\n",
      "<type 'int'>\n",
      "[INFO] message: Order decision buy and market order MarketOrder(instrument='EUR_USD', units=894.2864041637976, side='buy', type='market', price=1.11821, expiry='2016-04-21T05:46:27.134691Z')\n",
      "[INFO] message: Order Response\n",
      "[INFO] message: Tick Number: 13\n",
      "[INFO] message: {'long_term_ma': Decimal('1.107865500000000391622734241536818444728851318359375'), 'asking_price': 1.11821, 'short_term_ma': Decimal('1.12008599999999969298869473277591168880462646484375')}\n",
      "<type 'float'>\n",
      "<type 'int'>\n",
      "[INFO] message: Order decision buy and market order MarketOrder(instrument='EUR_USD', units=894.2864041637976, side='buy', type='market', price=1.11821, expiry='2016-04-21T05:46:27.134973Z')\n",
      "[INFO] message: Order Response\n",
      "[INFO] message: Tick Number: 14\n",
      "[INFO] message: {'long_term_ma': Decimal('1.107865500000000391622734241536818444728851318359375'), 'asking_price': 1.11821, 'short_term_ma': Decimal('1.12008599999999969298869473277591168880462646484375')}\n",
      "<type 'float'>\n",
      "<type 'int'>\n",
      "[INFO] message: Order decision buy and market order MarketOrder(instrument='EUR_USD', units=894.2864041637976, side='buy', type='market', price=1.11821, expiry='2016-04-21T05:46:27.135250Z')\n",
      "[INFO] message: Order Response\n",
      "[INFO] message: Tick Number: 15\n",
      "[INFO] message: {'long_term_ma': Decimal('1.107865500000000391622734241536818444728851318359375'), 'asking_price': 1.11821, 'short_term_ma': Decimal('1.12008599999999969298869473277591168880462646484375')}\n",
      "<type 'float'>\n",
      "<type 'int'>\n",
      "[INFO] message: Order decision buy and market order MarketOrder(instrument='EUR_USD', units=894.2864041637976, side='buy', type='market', price=1.11821, expiry='2016-04-21T05:46:27.135509Z')\n",
      "[INFO] message: Order Response\n",
      "[INFO] message: Tick Number: 16\n",
      "[INFO] message: {'long_term_ma': Decimal('1.1078655000000001695781293165055103600025177001953125'), 'asking_price': 1.11821, 'short_term_ma': Decimal('1.12008599999999969298869473277591168880462646484375')}\n",
      "<type 'float'>\n",
      "<type 'int'>\n",
      "[INFO] message: Order decision buy and market order MarketOrder(instrument='EUR_USD', units=894.2864041637976, side='buy', type='market', price=1.11821, expiry='2016-04-21T05:46:27.135754Z')\n",
      "[INFO] message: Order Response\n",
      "[INFO] message: Tick Number: 17\n",
      "[INFO] message: {'long_term_ma': Decimal('1.1078655000000001695781293165055103600025177001953125'), 'asking_price': 1.11821, 'short_term_ma': Decimal('1.12008599999999969298869473277591168880462646484375')}\n",
      "<type 'float'>\n",
      "<type 'int'>\n",
      "[INFO] message: Order decision buy and market order MarketOrder(instrument='EUR_USD', units=894.2864041637976, side='buy', type='market', price=1.11821, expiry='2016-04-21T05:46:27.135996Z')\n",
      "[INFO] message: Order Response\n",
      "[INFO] message: Tick Number: 18\n",
      "[INFO] message: {'long_term_ma': Decimal('1.1078655000000001695781293165055103600025177001953125'), 'asking_price': 1.11821, 'short_term_ma': Decimal('1.12008599999999969298869473277591168880462646484375')}\n",
      "<type 'float'>\n",
      "<type 'int'>\n",
      "[INFO] message: Order decision buy and market order MarketOrder(instrument='EUR_USD', units=894.2864041637976, side='buy', type='market', price=1.11821, expiry='2016-04-21T05:46:27.136242Z')\n",
      "[INFO] message: Order Response\n",
      "[INFO] message: Tick Number: 19\n",
      "[INFO] message: {'long_term_ma': Decimal('1.1078655000000001695781293165055103600025177001953125'), 'asking_price': 1.11821, 'short_term_ma': Decimal('1.120086000000000137077904582838527858257293701171875')}\n",
      "<type 'float'>\n",
      "<type 'int'>\n",
      "[INFO] message: Order decision buy and market order MarketOrder(instrument='EUR_USD', units=894.2864041637976, side='buy', type='market', price=1.11821, expiry='2016-04-21T05:46:27.136563Z')\n",
      "[INFO] message: Order Response\n"
     ]
    }
   ],
   "source": [
    "strategy_data = training_strategy.tick()"
   ]
  },
  {
   "cell_type": "code",
   "execution_count": 37,
   "metadata": {
    "collapsed": true
   },
   "outputs": [],
   "source": [
    "from collections import OrderedDict"
   ]
  },
  {
   "cell_type": "code",
   "execution_count": 38,
   "metadata": {
    "collapsed": true
   },
   "outputs": [],
   "source": [
    "strategy_data = OrderedDict(strategy_data)"
   ]
  },
  {
   "cell_type": "code",
   "execution_count": 48,
   "metadata": {
    "collapsed": true
   },
   "outputs": [],
   "source": [
    "rfc = RFClassifier()"
   ]
  },
  {
   "cell_type": "code",
   "execution_count": 41,
   "metadata": {
    "collapsed": false
   },
   "outputs": [
    {
     "name": "stdout",
     "output_type": "stream",
     "text": [
      "['long_term_ma', 'decision', 'short_term_ma']\n"
     ]
    }
   ],
   "source": [
    "X, y = rfc.prepare_training_data(strategy_data)"
   ]
  },
  {
   "cell_type": "code",
   "execution_count": 44,
   "metadata": {
    "collapsed": false
   },
   "outputs": [],
   "source": [
    "random_forest_classifier.train(X,y)"
   ]
  },
  {
   "cell_type": "code",
   "execution_count": 47,
   "metadata": {
    "collapsed": false
   },
   "outputs": [
    {
     "data": {
      "text/plain": [
       "\"ccopy_reg\\n_reconstructor\\np0\\n(csklearn.ensemble.forest\\nRandomForestClassifier\\np1\\nc__builtin__\\nobject\\np2\\nNtp3\\nRp4\\n(dp5\\nS'base_estimator'\\np6\\ng0\\n(csklearn.tree.tree\\nDecisionTreeClassifier\\np7\\ng2\\nNtp8\\nRp9\\n(dp10\\nS'presort'\\np11\\nI00\\nsS'splitter'\\np12\\nS'best'\\np13\\nsS'tree_'\\np14\\nNsS'n_features_'\\np15\\nNsS'n_outputs_'\\np16\\nNsS'n_classes_'\\np17\\nNsS'random_state'\\np18\\nNsS'classes_'\\np19\\nNsS'max_features_'\\np20\\nNsS'min_samples_leaf'\\np21\\nI1\\nsS'max_features'\\np22\\nNsS'min_weight_fraction_leaf'\\np23\\nF0.0\\nsS'criterion'\\np24\\nS'gini'\\np25\\nsS'max_leaf_nodes'\\np26\\nNsS'min_samples_split'\\np27\\nI2\\nsS'max_depth'\\np28\\nNsS'class_weight'\\np29\\nNsbsS'n_jobs'\\np30\\nI1\\nsg15\\nI2\\nsS'verbose'\\np31\\nI0\\nsg16\\nI1\\nsg19\\ncnumpy.core.multiarray\\n_reconstruct\\np32\\n(cnumpy\\nndarray\\np33\\n(I0\\ntp34\\nS'b'\\np35\\ntp36\\nRp37\\n(I1\\n(I1\\ntp38\\ncnumpy\\ndtype\\np39\\n(S'S3'\\np40\\nI0\\nI1\\ntp41\\nRp42\\n(I3\\nS'|'\\np43\\nNNNI3\\nI1\\nI0\\ntp44\\nbI00\\nS'buy'\\np45\\ntp46\\nbsS'oob_score'\\np47\\nI00\\nsg21\\nI1\\nsg22\\nS'auto'\\np48\\nsg29\\nNsg17\\nI1\\nsg18\\nNsg24\\ng25\\nsg23\\nF0.0\\nsg27\\nI2\\nsg28\\nNsS'estimators_'\\np49\\n(lp50\\ng0\\n(g7\\ng2\\nNtp51\\nRp52\\n(dp53\\ng11\\nI00\\nsg12\\ng13\\nsg14\\ncsklearn.tree._tree\\nTree\\np54\\n(I2\\ng32\\n(g33\\n(I0\\ntp55\\ng35\\ntp56\\nRp57\\n(I1\\n(I1\\ntp58\\ng39\\n(S'i8'\\np59\\nI0\\nI1\\ntp60\\nRp61\\n(I3\\nS'<'\\np62\\nNNNI-1\\nI-1\\nI0\\ntp63\\nbI00\\nS'\\\\x01\\\\x00\\\\x00\\\\x00\\\\x00\\\\x00\\\\x00\\\\x00'\\np64\\ntp65\\nbI1\\ntp66\\nRp67\\n(dp68\\nS'node_count'\\np69\\nI1\\nsS'values'\\np70\\ng32\\n(g33\\n(I0\\ntp71\\ng35\\ntp72\\nRp73\\n(I1\\n(I1\\nI1\\nI1\\ntp74\\ng39\\n(S'f8'\\np75\\nI0\\nI1\\ntp76\\nRp77\\n(I3\\nS'<'\\np78\\nNNNI-1\\nI-1\\nI0\\ntp79\\nbI00\\nS'\\\\x00\\\\x00\\\\x00\\\\x00\\\\x00\\\\x004@'\\np80\\ntp81\\nbsS'nodes'\\np82\\ng32\\n(g33\\n(I0\\ntp83\\ng35\\ntp84\\nRp85\\n(I1\\n(I1\\ntp86\\ng39\\n(S'V56'\\np87\\nI0\\nI1\\ntp88\\nRp89\\n(I3\\nS'|'\\np90\\nN(S'left_child'\\np91\\nS'right_child'\\np92\\nS'feature'\\np93\\nS'threshold'\\np94\\nS'impurity'\\np95\\nS'n_node_samples'\\np96\\nS'weighted_n_node_samples'\\np97\\ntp98\\n(dp99\\ng97\\n(g77\\nI48\\ntp100\\nsg95\\n(g77\\nI32\\ntp101\\nsg92\\n(g61\\nI8\\ntp102\\nsg93\\n(g61\\nI16\\ntp103\\nsg94\\n(g77\\nI24\\ntp104\\nsg91\\n(g61\\nI0\\ntp105\\nsg96\\n(g61\\nI40\\ntp106\\nsI56\\nI1\\nI16\\ntp107\\nbI00\\nS'\\\\xff\\\\xff\\\\xff\\\\xff\\\\xff\\\\xff\\\\xff\\\\xff\\\\xff\\\\xff\\\\xff\\\\xff\\\\xff\\\\xff\\\\xff\\\\xff\\\\xfe\\\\xff\\\\xff\\\\xff\\\\xff\\\\xff\\\\xff\\\\xff\\\\x00\\\\x00\\\\x00\\\\x00\\\\x00\\\\x00\\\\x00\\\\xc0\\\\x00\\\\x00\\\\x00\\\\x00\\\\x00\\\\x00\\\\x00\\\\x00\\\\x0c\\\\x00\\\\x00\\\\x00\\\\x00\\\\x00\\\\x00\\\\x00\\\\x00\\\\x00\\\\x00\\\\x00\\\\x00\\\\x004@'\\np108\\ntp109\\nbsbsg15\\nI2\\nsg16\\nI1\\nsg17\\ncnumpy.core.multiarray\\nscalar\\np110\\n(g61\\nS'\\\\x01\\\\x00\\\\x00\\\\x00\\\\x00\\\\x00\\\\x00\\\\x00'\\np111\\ntp112\\nRp113\\nsg18\\nI1717292669\\nsg19\\ng32\\n(g33\\n(I0\\ntp114\\ng35\\ntp115\\nRp116\\n(I1\\n(I1\\ntp117\\ng77\\nI00\\nS'\\\\x00\\\\x00\\\\x00\\\\x00\\\\x00\\\\x00\\\\x00\\\\x00'\\np118\\ntp119\\nbsg20\\nI1\\nsg21\\nI1\\nsg22\\ng48\\nsg23\\nF0.0\\nsg24\\ng25\\nsg26\\nNsg27\\nI2\\nsg28\\nNsg29\\nNsbag0\\n(g7\\ng2\\nNtp120\\nRp121\\n(dp122\\ng11\\nI00\\nsg12\\ng13\\nsg14\\ng54\\n(I2\\ng32\\n(g33\\n(I0\\ntp123\\ng35\\ntp124\\nRp125\\n(I1\\n(I1\\ntp126\\ng61\\nI00\\nS'\\\\x01\\\\x00\\\\x00\\\\x00\\\\x00\\\\x00\\\\x00\\\\x00'\\np127\\ntp128\\nbI1\\ntp129\\nRp130\\n(dp131\\ng69\\nI1\\nsg70\\ng32\\n(g33\\n(I0\\ntp132\\ng35\\ntp133\\nRp134\\n(I1\\n(I1\\nI1\\nI1\\ntp135\\ng77\\nI00\\nS'\\\\x00\\\\x00\\\\x00\\\\x00\\\\x00\\\\x004@'\\np136\\ntp137\\nbsg82\\ng32\\n(g33\\n(I0\\ntp138\\ng35\\ntp139\\nRp140\\n(I1\\n(I1\\ntp141\\ng89\\nI00\\nS'\\\\xff\\\\xff\\\\xff\\\\xff\\\\xff\\\\xff\\\\xff\\\\xff\\\\xff\\\\xff\\\\xff\\\\xff\\\\xff\\\\xff\\\\xff\\\\xff\\\\xfe\\\\xff\\\\xff\\\\xff\\\\xff\\\\xff\\\\xff\\\\xff\\\\x00\\\\x00\\\\x00\\\\x00\\\\x00\\\\x00\\\\x00\\\\xc0\\\\x00\\\\x00\\\\x00\\\\x00\\\\x00\\\\x00\\\\x00\\\\x00\\\\x0e\\\\x00\\\\x00\\\\x00\\\\x00\\\\x00\\\\x00\\\\x00\\\\x00\\\\x00\\\\x00\\\\x00\\\\x00\\\\x004@'\\np142\\ntp143\\nbsbsg15\\nI2\\nsg16\\nI1\\nsg17\\ng110\\n(g61\\nS'\\\\x01\\\\x00\\\\x00\\\\x00\\\\x00\\\\x00\\\\x00\\\\x00'\\np144\\ntp145\\nRp146\\nsg18\\nI1079683527\\nsg19\\ng32\\n(g33\\n(I0\\ntp147\\ng35\\ntp148\\nRp149\\n(I1\\n(I1\\ntp150\\ng77\\nI00\\nS'\\\\x00\\\\x00\\\\x00\\\\x00\\\\x00\\\\x00\\\\x00\\\\x00'\\np151\\ntp152\\nbsg20\\nI1\\nsg21\\nI1\\nsg22\\ng48\\nsg23\\nF0.0\\nsg24\\ng25\\nsg26\\nNsg27\\nI2\\nsg28\\nNsg29\\nNsbag0\\n(g7\\ng2\\nNtp153\\nRp154\\n(dp155\\ng11\\nI00\\nsg12\\ng13\\nsg14\\ng54\\n(I2\\ng32\\n(g33\\n(I0\\ntp156\\ng35\\ntp157\\nRp158\\n(I1\\n(I1\\ntp159\\ng61\\nI00\\nS'\\\\x01\\\\x00\\\\x00\\\\x00\\\\x00\\\\x00\\\\x00\\\\x00'\\np160\\ntp161\\nbI1\\ntp162\\nRp163\\n(dp164\\ng69\\nI1\\nsg70\\ng32\\n(g33\\n(I0\\ntp165\\ng35\\ntp166\\nRp167\\n(I1\\n(I1\\nI1\\nI1\\ntp168\\ng77\\nI00\\nS'\\\\x00\\\\x00\\\\x00\\\\x00\\\\x00\\\\x004@'\\np169\\ntp170\\nbsg82\\ng32\\n(g33\\n(I0\\ntp171\\ng35\\ntp172\\nRp173\\n(I1\\n(I1\\ntp174\\ng89\\nI00\\nS'\\\\xff\\\\xff\\\\xff\\\\xff\\\\xff\\\\xff\\\\xff\\\\xff\\\\xff\\\\xff\\\\xff\\\\xff\\\\xff\\\\xff\\\\xff\\\\xff\\\\xfe\\\\xff\\\\xff\\\\xff\\\\xff\\\\xff\\\\xff\\\\xff\\\\x00\\\\x00\\\\x00\\\\x00\\\\x00\\\\x00\\\\x00\\\\xc0\\\\x00\\\\x00\\\\x00\\\\x00\\\\x00\\\\x00\\\\x00\\\\x00\\\\x0e\\\\x00\\\\x00\\\\x00\\\\x00\\\\x00\\\\x00\\\\x00\\\\x00\\\\x00\\\\x00\\\\x00\\\\x00\\\\x004@'\\np175\\ntp176\\nbsbsg15\\nI2\\nsg16\\nI1\\nsg17\\ng110\\n(g61\\nS'\\\\x01\\\\x00\\\\x00\\\\x00\\\\x00\\\\x00\\\\x00\\\\x00'\\np177\\ntp178\\nRp179\\nsg18\\nI1990817595\\nsg19\\ng32\\n(g33\\n(I0\\ntp180\\ng35\\ntp181\\nRp182\\n(I1\\n(I1\\ntp183\\ng77\\nI00\\nS'\\\\x00\\\\x00\\\\x00\\\\x00\\\\x00\\\\x00\\\\x00\\\\x00'\\np184\\ntp185\\nbsg20\\nI1\\nsg21\\nI1\\nsg22\\ng48\\nsg23\\nF0.0\\nsg24\\ng25\\nsg26\\nNsg27\\nI2\\nsg28\\nNsg29\\nNsbag0\\n(g7\\ng2\\nNtp186\\nRp187\\n(dp188\\ng11\\nI00\\nsg12\\ng13\\nsg14\\ng54\\n(I2\\ng32\\n(g33\\n(I0\\ntp189\\ng35\\ntp190\\nRp191\\n(I1\\n(I1\\ntp192\\ng61\\nI00\\nS'\\\\x01\\\\x00\\\\x00\\\\x00\\\\x00\\\\x00\\\\x00\\\\x00'\\np193\\ntp194\\nbI1\\ntp195\\nRp196\\n(dp197\\ng69\\nI1\\nsg70\\ng32\\n(g33\\n(I0\\ntp198\\ng35\\ntp199\\nRp200\\n(I1\\n(I1\\nI1\\nI1\\ntp201\\ng77\\nI00\\nS'\\\\x00\\\\x00\\\\x00\\\\x00\\\\x00\\\\x004@'\\np202\\ntp203\\nbsg82\\ng32\\n(g33\\n(I0\\ntp204\\ng35\\ntp205\\nRp206\\n(I1\\n(I1\\ntp207\\ng89\\nI00\\nS'\\\\xff\\\\xff\\\\xff\\\\xff\\\\xff\\\\xff\\\\xff\\\\xff\\\\xff\\\\xff\\\\xff\\\\xff\\\\xff\\\\xff\\\\xff\\\\xff\\\\xfe\\\\xff\\\\xff\\\\xff\\\\xff\\\\xff\\\\xff\\\\xff\\\\x00\\\\x00\\\\x00\\\\x00\\\\x00\\\\x00\\\\x00\\\\xc0\\\\x00\\\\x00\\\\x00\\\\x00\\\\x00\\\\x00\\\\x00\\\\x00\\\\x0c\\\\x00\\\\x00\\\\x00\\\\x00\\\\x00\\\\x00\\\\x00\\\\x00\\\\x00\\\\x00\\\\x00\\\\x00\\\\x004@'\\np208\\ntp209\\nbsbsg15\\nI2\\nsg16\\nI1\\nsg17\\ng110\\n(g61\\nS'\\\\x01\\\\x00\\\\x00\\\\x00\\\\x00\\\\x00\\\\x00\\\\x00'\\np210\\ntp211\\nRp212\\nsg18\\nI1266647935\\nsg19\\ng32\\n(g33\\n(I0\\ntp213\\ng35\\ntp214\\nRp215\\n(I1\\n(I1\\ntp216\\ng77\\nI00\\nS'\\\\x00\\\\x00\\\\x00\\\\x00\\\\x00\\\\x00\\\\x00\\\\x00'\\np217\\ntp218\\nbsg20\\nI1\\nsg21\\nI1\\nsg22\\ng48\\nsg23\\nF0.0\\nsg24\\ng25\\nsg26\\nNsg27\\nI2\\nsg28\\nNsg29\\nNsbag0\\n(g7\\ng2\\nNtp219\\nRp220\\n(dp221\\ng11\\nI00\\nsg12\\ng13\\nsg14\\ng54\\n(I2\\ng32\\n(g33\\n(I0\\ntp222\\ng35\\ntp223\\nRp224\\n(I1\\n(I1\\ntp225\\ng61\\nI00\\nS'\\\\x01\\\\x00\\\\x00\\\\x00\\\\x00\\\\x00\\\\x00\\\\x00'\\np226\\ntp227\\nbI1\\ntp228\\nRp229\\n(dp230\\ng69\\nI1\\nsg70\\ng32\\n(g33\\n(I0\\ntp231\\ng35\\ntp232\\nRp233\\n(I1\\n(I1\\nI1\\nI1\\ntp234\\ng77\\nI00\\nS'\\\\x00\\\\x00\\\\x00\\\\x00\\\\x00\\\\x004@'\\np235\\ntp236\\nbsg82\\ng32\\n(g33\\n(I0\\ntp237\\ng35\\ntp238\\nRp239\\n(I1\\n(I1\\ntp240\\ng89\\nI00\\nS'\\\\xff\\\\xff\\\\xff\\\\xff\\\\xff\\\\xff\\\\xff\\\\xff\\\\xff\\\\xff\\\\xff\\\\xff\\\\xff\\\\xff\\\\xff\\\\xff\\\\xfe\\\\xff\\\\xff\\\\xff\\\\xff\\\\xff\\\\xff\\\\xff\\\\x00\\\\x00\\\\x00\\\\x00\\\\x00\\\\x00\\\\x00\\\\xc0\\\\x00\\\\x00\\\\x00\\\\x00\\\\x00\\\\x00\\\\x00\\\\x00\\\\n\\\\x00\\\\x00\\\\x00\\\\x00\\\\x00\\\\x00\\\\x00\\\\x00\\\\x00\\\\x00\\\\x00\\\\x00\\\\x004@'\\np241\\ntp242\\nbsbsg15\\nI2\\nsg16\\nI1\\nsg17\\ng110\\n(g61\\nS'\\\\x01\\\\x00\\\\x00\\\\x00\\\\x00\\\\x00\\\\x00\\\\x00'\\np243\\ntp244\\nRp245\\nsg18\\nI1897690860\\nsg19\\ng32\\n(g33\\n(I0\\ntp246\\ng35\\ntp247\\nRp248\\n(I1\\n(I1\\ntp249\\ng77\\nI00\\nS'\\\\x00\\\\x00\\\\x00\\\\x00\\\\x00\\\\x00\\\\x00\\\\x00'\\np250\\ntp251\\nbsg20\\nI1\\nsg21\\nI1\\nsg22\\ng48\\nsg23\\nF0.0\\nsg24\\ng25\\nsg26\\nNsg27\\nI2\\nsg28\\nNsg29\\nNsbag0\\n(g7\\ng2\\nNtp252\\nRp253\\n(dp254\\ng11\\nI00\\nsg12\\ng13\\nsg14\\ng54\\n(I2\\ng32\\n(g33\\n(I0\\ntp255\\ng35\\ntp256\\nRp257\\n(I1\\n(I1\\ntp258\\ng61\\nI00\\nS'\\\\x01\\\\x00\\\\x00\\\\x00\\\\x00\\\\x00\\\\x00\\\\x00'\\np259\\ntp260\\nbI1\\ntp261\\nRp262\\n(dp263\\ng69\\nI1\\nsg70\\ng32\\n(g33\\n(I0\\ntp264\\ng35\\ntp265\\nRp266\\n(I1\\n(I1\\nI1\\nI1\\ntp267\\ng77\\nI00\\nS'\\\\x00\\\\x00\\\\x00\\\\x00\\\\x00\\\\x004@'\\np268\\ntp269\\nbsg82\\ng32\\n(g33\\n(I0\\ntp270\\ng35\\ntp271\\nRp272\\n(I1\\n(I1\\ntp273\\ng89\\nI00\\nS'\\\\xff\\\\xff\\\\xff\\\\xff\\\\xff\\\\xff\\\\xff\\\\xff\\\\xff\\\\xff\\\\xff\\\\xff\\\\xff\\\\xff\\\\xff\\\\xff\\\\xfe\\\\xff\\\\xff\\\\xff\\\\xff\\\\xff\\\\xff\\\\xff\\\\x00\\\\x00\\\\x00\\\\x00\\\\x00\\\\x00\\\\x00\\\\xc0\\\\x00\\\\x00\\\\x00\\\\x00\\\\x00\\\\x00\\\\x00\\\\x00\\\\x0b\\\\x00\\\\x00\\\\x00\\\\x00\\\\x00\\\\x00\\\\x00\\\\x00\\\\x00\\\\x00\\\\x00\\\\x00\\\\x004@'\\np274\\ntp275\\nbsbsg15\\nI2\\nsg16\\nI1\\nsg17\\ng110\\n(g61\\nS'\\\\x01\\\\x00\\\\x00\\\\x00\\\\x00\\\\x00\\\\x00\\\\x00'\\np276\\ntp277\\nRp278\\nsg18\\nI1027800745\\nsg19\\ng32\\n(g33\\n(I0\\ntp279\\ng35\\ntp280\\nRp281\\n(I1\\n(I1\\ntp282\\ng77\\nI00\\nS'\\\\x00\\\\x00\\\\x00\\\\x00\\\\x00\\\\x00\\\\x00\\\\x00'\\np283\\ntp284\\nbsg20\\nI1\\nsg21\\nI1\\nsg22\\ng48\\nsg23\\nF0.0\\nsg24\\ng25\\nsg26\\nNsg27\\nI2\\nsg28\\nNsg29\\nNsbag0\\n(g7\\ng2\\nNtp285\\nRp286\\n(dp287\\ng11\\nI00\\nsg12\\ng13\\nsg14\\ng54\\n(I2\\ng32\\n(g33\\n(I0\\ntp288\\ng35\\ntp289\\nRp290\\n(I1\\n(I1\\ntp291\\ng61\\nI00\\nS'\\\\x01\\\\x00\\\\x00\\\\x00\\\\x00\\\\x00\\\\x00\\\\x00'\\np292\\ntp293\\nbI1\\ntp294\\nRp295\\n(dp296\\ng69\\nI1\\nsg70\\ng32\\n(g33\\n(I0\\ntp297\\ng35\\ntp298\\nRp299\\n(I1\\n(I1\\nI1\\nI1\\ntp300\\ng77\\nI00\\nS'\\\\x00\\\\x00\\\\x00\\\\x00\\\\x00\\\\x004@'\\np301\\ntp302\\nbsg82\\ng32\\n(g33\\n(I0\\ntp303\\ng35\\ntp304\\nRp305\\n(I1\\n(I1\\ntp306\\ng89\\nI00\\nS'\\\\xff\\\\xff\\\\xff\\\\xff\\\\xff\\\\xff\\\\xff\\\\xff\\\\xff\\\\xff\\\\xff\\\\xff\\\\xff\\\\xff\\\\xff\\\\xff\\\\xfe\\\\xff\\\\xff\\\\xff\\\\xff\\\\xff\\\\xff\\\\xff\\\\x00\\\\x00\\\\x00\\\\x00\\\\x00\\\\x00\\\\x00\\\\xc0\\\\x00\\\\x00\\\\x00\\\\x00\\\\x00\\\\x00\\\\x00\\\\x00\\\\x0f\\\\x00\\\\x00\\\\x00\\\\x00\\\\x00\\\\x00\\\\x00\\\\x00\\\\x00\\\\x00\\\\x00\\\\x00\\\\x004@'\\np307\\ntp308\\nbsbsg15\\nI2\\nsg16\\nI1\\nsg17\\ng110\\n(g61\\nS'\\\\x01\\\\x00\\\\x00\\\\x00\\\\x00\\\\x00\\\\x00\\\\x00'\\np309\\ntp310\\nRp311\\nsg18\\nI1857099747\\nsg19\\ng32\\n(g33\\n(I0\\ntp312\\ng35\\ntp313\\nRp314\\n(I1\\n(I1\\ntp315\\ng77\\nI00\\nS'\\\\x00\\\\x00\\\\x00\\\\x00\\\\x00\\\\x00\\\\x00\\\\x00'\\np316\\ntp317\\nbsg20\\nI1\\nsg21\\nI1\\nsg22\\ng48\\nsg23\\nF0.0\\nsg24\\ng25\\nsg26\\nNsg27\\nI2\\nsg28\\nNsg29\\nNsbag0\\n(g7\\ng2\\nNtp318\\nRp319\\n(dp320\\ng11\\nI00\\nsg12\\ng13\\nsg14\\ng54\\n(I2\\ng32\\n(g33\\n(I0\\ntp321\\ng35\\ntp322\\nRp323\\n(I1\\n(I1\\ntp324\\ng61\\nI00\\nS'\\\\x01\\\\x00\\\\x00\\\\x00\\\\x00\\\\x00\\\\x00\\\\x00'\\np325\\ntp326\\nbI1\\ntp327\\nRp328\\n(dp329\\ng69\\nI1\\nsg70\\ng32\\n(g33\\n(I0\\ntp330\\ng35\\ntp331\\nRp332\\n(I1\\n(I1\\nI1\\nI1\\ntp333\\ng77\\nI00\\nS'\\\\x00\\\\x00\\\\x00\\\\x00\\\\x00\\\\x004@'\\np334\\ntp335\\nbsg82\\ng32\\n(g33\\n(I0\\ntp336\\ng35\\ntp337\\nRp338\\n(I1\\n(I1\\ntp339\\ng89\\nI00\\nS'\\\\xff\\\\xff\\\\xff\\\\xff\\\\xff\\\\xff\\\\xff\\\\xff\\\\xff\\\\xff\\\\xff\\\\xff\\\\xff\\\\xff\\\\xff\\\\xff\\\\xfe\\\\xff\\\\xff\\\\xff\\\\xff\\\\xff\\\\xff\\\\xff\\\\x00\\\\x00\\\\x00\\\\x00\\\\x00\\\\x00\\\\x00\\\\xc0\\\\x00\\\\x00\\\\x00\\\\x00\\\\x00\\\\x00\\\\x00\\\\x00\\\\x0b\\\\x00\\\\x00\\\\x00\\\\x00\\\\x00\\\\x00\\\\x00\\\\x00\\\\x00\\\\x00\\\\x00\\\\x00\\\\x004@'\\np340\\ntp341\\nbsbsg15\\nI2\\nsg16\\nI1\\nsg17\\ng110\\n(g61\\nS'\\\\x01\\\\x00\\\\x00\\\\x00\\\\x00\\\\x00\\\\x00\\\\x00'\\np342\\ntp343\\nRp344\\nsg18\\nI1217036160\\nsg19\\ng32\\n(g33\\n(I0\\ntp345\\ng35\\ntp346\\nRp347\\n(I1\\n(I1\\ntp348\\ng77\\nI00\\nS'\\\\x00\\\\x00\\\\x00\\\\x00\\\\x00\\\\x00\\\\x00\\\\x00'\\np349\\ntp350\\nbsg20\\nI1\\nsg21\\nI1\\nsg22\\ng48\\nsg23\\nF0.0\\nsg24\\ng25\\nsg26\\nNsg27\\nI2\\nsg28\\nNsg29\\nNsbag0\\n(g7\\ng2\\nNtp351\\nRp352\\n(dp353\\ng11\\nI00\\nsg12\\ng13\\nsg14\\ng54\\n(I2\\ng32\\n(g33\\n(I0\\ntp354\\ng35\\ntp355\\nRp356\\n(I1\\n(I1\\ntp357\\ng61\\nI00\\nS'\\\\x01\\\\x00\\\\x00\\\\x00\\\\x00\\\\x00\\\\x00\\\\x00'\\np358\\ntp359\\nbI1\\ntp360\\nRp361\\n(dp362\\ng69\\nI1\\nsg70\\ng32\\n(g33\\n(I0\\ntp363\\ng35\\ntp364\\nRp365\\n(I1\\n(I1\\nI1\\nI1\\ntp366\\ng77\\nI00\\nS'\\\\x00\\\\x00\\\\x00\\\\x00\\\\x00\\\\x004@'\\np367\\ntp368\\nbsg82\\ng32\\n(g33\\n(I0\\ntp369\\ng35\\ntp370\\nRp371\\n(I1\\n(I1\\ntp372\\ng89\\nI00\\nS'\\\\xff\\\\xff\\\\xff\\\\xff\\\\xff\\\\xff\\\\xff\\\\xff\\\\xff\\\\xff\\\\xff\\\\xff\\\\xff\\\\xff\\\\xff\\\\xff\\\\xfe\\\\xff\\\\xff\\\\xff\\\\xff\\\\xff\\\\xff\\\\xff\\\\x00\\\\x00\\\\x00\\\\x00\\\\x00\\\\x00\\\\x00\\\\xc0\\\\x00\\\\x00\\\\x00\\\\x00\\\\x00\\\\x00\\\\x00\\\\x00\\\\x0e\\\\x00\\\\x00\\\\x00\\\\x00\\\\x00\\\\x00\\\\x00\\\\x00\\\\x00\\\\x00\\\\x00\\\\x00\\\\x004@'\\np373\\ntp374\\nbsbsg15\\nI2\\nsg16\\nI1\\nsg17\\ng110\\n(g61\\nS'\\\\x01\\\\x00\\\\x00\\\\x00\\\\x00\\\\x00\\\\x00\\\\x00'\\np375\\ntp376\\nRp377\\nsg18\\nI1512548555\\nsg19\\ng32\\n(g33\\n(I0\\ntp378\\ng35\\ntp379\\nRp380\\n(I1\\n(I1\\ntp381\\ng77\\nI00\\nS'\\\\x00\\\\x00\\\\x00\\\\x00\\\\x00\\\\x00\\\\x00\\\\x00'\\np382\\ntp383\\nbsg20\\nI1\\nsg21\\nI1\\nsg22\\ng48\\nsg23\\nF0.0\\nsg24\\ng25\\nsg26\\nNsg27\\nI2\\nsg28\\nNsg29\\nNsbag0\\n(g7\\ng2\\nNtp384\\nRp385\\n(dp386\\ng11\\nI00\\nsg12\\ng13\\nsg14\\ng54\\n(I2\\ng32\\n(g33\\n(I0\\ntp387\\ng35\\ntp388\\nRp389\\n(I1\\n(I1\\ntp390\\ng61\\nI00\\nS'\\\\x01\\\\x00\\\\x00\\\\x00\\\\x00\\\\x00\\\\x00\\\\x00'\\np391\\ntp392\\nbI1\\ntp393\\nRp394\\n(dp395\\ng69\\nI1\\nsg70\\ng32\\n(g33\\n(I0\\ntp396\\ng35\\ntp397\\nRp398\\n(I1\\n(I1\\nI1\\nI1\\ntp399\\ng77\\nI00\\nS'\\\\x00\\\\x00\\\\x00\\\\x00\\\\x00\\\\x004@'\\np400\\ntp401\\nbsg82\\ng32\\n(g33\\n(I0\\ntp402\\ng35\\ntp403\\nRp404\\n(I1\\n(I1\\ntp405\\ng89\\nI00\\nS'\\\\xff\\\\xff\\\\xff\\\\xff\\\\xff\\\\xff\\\\xff\\\\xff\\\\xff\\\\xff\\\\xff\\\\xff\\\\xff\\\\xff\\\\xff\\\\xff\\\\xfe\\\\xff\\\\xff\\\\xff\\\\xff\\\\xff\\\\xff\\\\xff\\\\x00\\\\x00\\\\x00\\\\x00\\\\x00\\\\x00\\\\x00\\\\xc0\\\\x00\\\\x00\\\\x00\\\\x00\\\\x00\\\\x00\\\\x00\\\\x00\\\\r\\\\x00\\\\x00\\\\x00\\\\x00\\\\x00\\\\x00\\\\x00\\\\x00\\\\x00\\\\x00\\\\x00\\\\x00\\\\x004@'\\np406\\ntp407\\nbsbsg15\\nI2\\nsg16\\nI1\\nsg17\\ng110\\n(g61\\nS'\\\\x01\\\\x00\\\\x00\\\\x00\\\\x00\\\\x00\\\\x00\\\\x00'\\np408\\ntp409\\nRp410\\nsg18\\nI271590237\\nsg19\\ng32\\n(g33\\n(I0\\ntp411\\ng35\\ntp412\\nRp413\\n(I1\\n(I1\\ntp414\\ng77\\nI00\\nS'\\\\x00\\\\x00\\\\x00\\\\x00\\\\x00\\\\x00\\\\x00\\\\x00'\\np415\\ntp416\\nbsg20\\nI1\\nsg21\\nI1\\nsg22\\ng48\\nsg23\\nF0.0\\nsg24\\ng25\\nsg26\\nNsg27\\nI2\\nsg28\\nNsg29\\nNsbasg26\\nNsS'n_estimators'\\np417\\nI10\\nsS'warm_start'\\np418\\nI00\\nsS'bootstrap'\\np419\\nI01\\nsS'base_estimator_'\\np420\\ng9\\nsS'estimator_params'\\np421\\n(S'criterion'\\np422\\nS'max_depth'\\np423\\nS'min_samples_split'\\np424\\nS'min_samples_leaf'\\np425\\nS'min_weight_fraction_leaf'\\np426\\nS'max_features'\\np427\\nS'max_leaf_nodes'\\np428\\nS'random_state'\\np429\\ntp430\\nsb.\""
      ]
     },
     "execution_count": 47,
     "metadata": {},
     "output_type": "execute_result"
    }
   ],
   "source": [
    "random_forest_classifier.serialize_classifier()"
   ]
  }
 ],
 "metadata": {
  "kernelspec": {
   "display_name": "Python 2",
   "language": "python",
   "name": "python2"
  },
  "language_info": {
   "codemirror_mode": {
    "name": "ipython",
    "version": 2
   },
   "file_extension": ".py",
   "mimetype": "text/x-python",
   "name": "python",
   "nbconvert_exporter": "python",
   "pygments_lexer": "ipython2",
   "version": "2.7.10"
  }
 },
 "nbformat": 4,
 "nbformat_minor": 0
}
